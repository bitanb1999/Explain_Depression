{
  "nbformat": 4,
  "nbformat_minor": 0,
  "metadata": {
    "colab": {
      "provenance": [],
      "authorship_tag": "ABX9TyN1bjlKcOnV8OpX0ET/RzG/",
      "include_colab_link": true
    },
    "kernelspec": {
      "name": "python3",
      "display_name": "Python 3"
    },
    "language_info": {
      "name": "python"
    },
    "accelerator": "GPU",
    "gpuClass": "standard"
  },
  "cells": [
    {
      "cell_type": "markdown",
      "metadata": {
        "id": "view-in-github",
        "colab_type": "text"
      },
      "source": [
        "<a href=\"https://colab.research.google.com/github/bitanb1999/Explain_Depression/blob/main/models/Glove.ipynb\" target=\"_parent\"><img src=\"https://colab.research.google.com/assets/colab-badge.svg\" alt=\"Open In Colab\"/></a>"
      ]
    },
    {
      "cell_type": "code",
      "execution_count": 1,
      "metadata": {
        "colab": {
          "base_uri": "https://localhost:8080/"
        },
        "id": "TjC2iJyuD2Bd",
        "outputId": "e71188a3-c490-4378-cb54-2be94a2a6277"
      },
      "outputs": [
        {
          "output_type": "stream",
          "name": "stdout",
          "text": [
            "--2022-09-01 17:18:55--  https://raw.githubusercontent.com/Kayal-Sampath/detecting-signs-of-depression-from-social-media-postings/main/dev.tsv\n",
            "Resolving raw.githubusercontent.com (raw.githubusercontent.com)... 185.199.108.133, 185.199.109.133, 185.199.110.133, ...\n",
            "Connecting to raw.githubusercontent.com (raw.githubusercontent.com)|185.199.108.133|:443... connected.\n",
            "HTTP request sent, awaiting response... 200 OK\n",
            "Length: 4048219 (3.9M) [text/plain]\n",
            "Saving to: ‘dev.tsv’\n",
            "\n",
            "dev.tsv             100%[===================>]   3.86M  --.-KB/s    in 0.07s   \n",
            "\n",
            "2022-09-01 17:18:55 (55.5 MB/s) - ‘dev.tsv’ saved [4048219/4048219]\n",
            "\n",
            "--2022-09-01 17:18:55--  https://raw.githubusercontent.com/Kayal-Sampath/detecting-signs-of-depression-from-social-media-postings/main/train.tsv\n",
            "Resolving raw.githubusercontent.com (raw.githubusercontent.com)... 185.199.108.133, 185.199.109.133, 185.199.110.133, ...\n",
            "Connecting to raw.githubusercontent.com (raw.githubusercontent.com)|185.199.108.133|:443... connected.\n",
            "HTTP request sent, awaiting response... 200 OK\n",
            "Length: 6880758 (6.6M) [text/plain]\n",
            "Saving to: ‘train.tsv’\n",
            "\n",
            "train.tsv           100%[===================>]   6.56M  --.-KB/s    in 0.08s   \n",
            "\n",
            "2022-09-01 17:18:55 (83.7 MB/s) - ‘train.tsv’ saved [6880758/6880758]\n",
            "\n",
            "--2022-09-01 17:18:55--  https://raw.githubusercontent.com/Kayal-Sampath/detecting-signs-of-depression-from-social-media-postings/main/test.tsv\n",
            "Resolving raw.githubusercontent.com (raw.githubusercontent.com)... 185.199.108.133, 185.199.109.133, 185.199.110.133, ...\n",
            "Connecting to raw.githubusercontent.com (raw.githubusercontent.com)|185.199.108.133|:443... connected.\n",
            "HTTP request sent, awaiting response... 200 OK\n",
            "Length: 2847264 (2.7M) [text/plain]\n",
            "Saving to: ‘test.tsv’\n",
            "\n",
            "test.tsv            100%[===================>]   2.71M  --.-KB/s    in 0.06s   \n",
            "\n",
            "2022-09-01 17:18:56 (42.0 MB/s) - ‘test.tsv’ saved [2847264/2847264]\n",
            "\n"
          ]
        }
      ],
      "source": [
        "!wget https://raw.githubusercontent.com/Kayal-Sampath/detecting-signs-of-depression-from-social-media-postings/main/dev.tsv\n",
        "!wget https://raw.githubusercontent.com/Kayal-Sampath/detecting-signs-of-depression-from-social-media-postings/main/train.tsv\n",
        "!wget https://raw.githubusercontent.com/Kayal-Sampath/detecting-signs-of-depression-from-social-media-postings/main/test.tsv"
      ]
    },
    {
      "cell_type": "code",
      "source": [
        "import pandas as pd\n",
        "import numpy as np\n",
        "import nltk\n",
        "nltk.download('stopwords')\n",
        "from nltk.corpus import stopwords\n",
        "from nltk.util import ngrams\n",
        "from sklearn.feature_extraction.text import CountVectorizer\n",
        "from collections import defaultdict\n",
        "from collections import  Counter\n",
        "stop=set(stopwords.words('english'))\n",
        "import re\n",
        "from nltk.tokenize import word_tokenize\n",
        "import gensim\n",
        "import string\n",
        "from keras.preprocessing.text import Tokenizer\n",
        "from keras.preprocessing.sequence import pad_sequences\n",
        "from tqdm import tqdm\n",
        "from keras.models import Sequential\n",
        "from keras.layers import Embedding,LSTM,Dense,SpatialDropout1D\n",
        "from keras.initializers import Constant\n",
        "from sklearn.model_selection import train_test_split\n",
        "from tensorflow.keras.optimizers import Adam\n",
        "dev=pd.read_csv(\"dev.tsv\", sep='\\t')\n",
        "train=pd.read_csv(\"train.tsv\", sep='\\t')\n",
        "test=pd.read_csv(\"test.tsv\", sep='\\t')"
      ],
      "metadata": {
        "colab": {
          "base_uri": "https://localhost:8080/"
        },
        "id": "0kSV2VCuD85c",
        "outputId": "6de0cd28-6409-420a-e410-1c32391230cf"
      },
      "execution_count": 26,
      "outputs": [
        {
          "output_type": "stream",
          "name": "stderr",
          "text": [
            "[nltk_data] Downloading package stopwords to /root/nltk_data...\n",
            "[nltk_data]   Package stopwords is already up-to-date!\n"
          ]
        }
      ]
    },
    {
      "cell_type": "code",
      "source": [
        "label_dict={}\n",
        "l=0;\n",
        "for i in ['not depression','moderate','severe']:\n",
        "  label_dict[i]=l\n",
        "  l+=1\n",
        "label_dict"
      ],
      "metadata": {
        "colab": {
          "base_uri": "https://localhost:8080/"
        },
        "id": "vLoH81LFELcc",
        "outputId": "934f2a4c-50b1-47b4-e07f-265bbc3bc54c"
      },
      "execution_count": 27,
      "outputs": [
        {
          "output_type": "execute_result",
          "data": {
            "text/plain": [
              "{'not depression': 0, 'moderate': 1, 'severe': 2}"
            ]
          },
          "metadata": {},
          "execution_count": 27
        }
      ]
    },
    {
      "cell_type": "code",
      "source": [
        "train['Label']=train['Label'].apply(lambda x:label_dict[x])\n",
        "dev['Label']=dev['Label'].apply(lambda x:label_dict[x])"
      ],
      "metadata": {
        "id": "RMSqhOcAEd6L"
      },
      "execution_count": 28,
      "outputs": []
    },
    {
      "cell_type": "code",
      "source": [
        "train=train[['Text_data','Label']]\n",
        "dev=dev[['Text data','Label']]"
      ],
      "metadata": {
        "id": "dwks8Tv4Egyu"
      },
      "execution_count": 29,
      "outputs": []
    },
    {
      "cell_type": "code",
      "source": [
        "dev.rename(columns={'Text data':'Text_data'},inplace=True)\n",
        "#############################\n",
        "# concat all\n",
        "df=pd.concat([train,dev])\n",
        "df.reset_index(drop=True,inplace=True)\n",
        "\n",
        "from nltk.stem import PorterStemmer\n",
        "stop_words = set(stopwords.words(\"english\"))\n",
        "stemer = PorterStemmer()\n",
        "def remove_SW_Stem(text):\n",
        " text=[stemer.stem(words) for words in text.split(\" \") if words not in stop_words]\n",
        " return \" \".join(text)\n",
        "special_chars = re.compile(\"#+_]\")\n",
        "add_space = re.compile(\"[/(){}\\[\\]\\\\@;]\")\n",
        "def clean_text(text):\n",
        " text=text.lower()\n",
        " text = add_space.sub(\" \",text)\n",
        " text = special_chars.sub(\" \",text)\n",
        " text = remove_SW_Stem(text)\n",
        " return text"
      ],
      "metadata": {
        "id": "2dkhYKUkEjG5"
      },
      "execution_count": 30,
      "outputs": []
    },
    {
      "cell_type": "code",
      "source": [
        "df['Text_data']=df['Text_data'].apply(lambda text:clean_text(text))"
      ],
      "metadata": {
        "id": "7PogLw3CExqL"
      },
      "execution_count": 31,
      "outputs": []
    },
    {
      "cell_type": "code",
      "source": [
        "train = df[~df['Label'].isna()]\n",
        "X_train, X_val, y_train, y_val = train_test_split(train, train['Label'], test_size=0.2, random_state=42)"
      ],
      "metadata": {
        "id": "mdfUDzBgE0Gt"
      },
      "execution_count": 32,
      "outputs": []
    },
    {
      "cell_type": "code",
      "source": [
        "test.rename(columns={'text data':'Text_data'},inplace=True)"
      ],
      "metadata": {
        "id": "lo4p6wwxE24z"
      },
      "execution_count": 33,
      "outputs": []
    },
    {
      "cell_type": "code",
      "source": [
        "from keras.preprocessing import sequence\n",
        "from keras.preprocessing import text\n",
        "\n",
        "# Limit on the number of features to K features.\n",
        "TOP_K = 20000\n",
        "\n",
        "# Limit on the length of text sequences. \n",
        "# Sequences longer than this will be truncated.\n",
        "# and less than it will be padded\n",
        "MAX_SEQUENCE_LENGTH = 512\n",
        "\n",
        "class CustomTokenizer:\n",
        "    def __init__(self, train_texts):\n",
        "        self.train_texts = train_texts\n",
        "        self.tokenizer = Tokenizer(num_words=TOP_K)\n",
        "        \n",
        "    def train_tokenize(self):\n",
        "        # Get max sequence length.\n",
        "        max_length = len(max(self.train_texts , key=len))\n",
        "        self.max_length = min(max_length, MAX_SEQUENCE_LENGTH)\n",
        "    \n",
        "        # Create vocabulary with training texts.\n",
        "        self.tokenizer.fit_on_texts(self.train_texts)\n",
        "        \n",
        "    def vectorize_input(self, tweets):\n",
        "        # Vectorize training and validation texts.\n",
        "        \n",
        "        tweets = self.tokenizer.texts_to_sequences(tweets)\n",
        "        # Fix sequence length to max value. Sequences shorter than the length are\n",
        "        # padded in the beginning and sequences longer are truncated\n",
        "        # at the beginning.\n",
        "        tweets = sequence.pad_sequences(tweets, maxlen=self.max_length, truncating='post',padding='post')\n",
        "        return tweets\n",
        "    \n",
        "tokenizer = CustomTokenizer(train_texts = X_train['Text_data'])\n",
        "# fit o the train\n",
        "tokenizer.train_tokenize()\n",
        "tokenized_train = tokenizer.vectorize_input(X_train['Text_data'])\n",
        "tokenized_val = tokenizer.vectorize_input(X_val['Text_data'])\n",
        "tokenized_test = tokenizer.vectorize_input(test['Text_data'])"
      ],
      "metadata": {
        "id": "V6rekq3yFAvP"
      },
      "execution_count": 34,
      "outputs": []
    },
    {
      "cell_type": "code",
      "source": [
        "import os\n",
        "import tqdm\n",
        "import requests\n",
        "import zipfile\n",
        "URL = \"http://nlp.stanford.edu/data/glove.42B.300d.zip\"\n",
        "\n",
        "def fetch_data(url=URL, target_file='glove.zip', delete_zip=False):\n",
        "    #if the dataset already exists exit\n",
        "    if os.path.isfile(target_file):\n",
        "        print(\"datasets already downloded :) \")\n",
        "        return\n",
        "\n",
        "    #download (large) zip file\n",
        "    #for large https request on stream mode to avoid out of memory issues\n",
        "    #see : http://masnun.com/2016/09/18/python-using-the-requests-module-to-download-large-files-efficiently.html\n",
        "    print(\"**************************\")\n",
        "    print(\"  Downloading zip file\")\n",
        "    print(\"  >_<  Please wait >_< \")\n",
        "    print(\"**************************\")\n",
        "    response = requests.get(url, stream=True)\n",
        "    #read chunk by chunk\n",
        "    handle = open(target_file, \"wb\")\n",
        "    for chunk in tqdm.tqdm(response.iter_content(chunk_size=512)):\n",
        "        if chunk:  \n",
        "            handle.write(chunk)\n",
        "    handle.close()  \n",
        "    print(\"  Download completed ;) :\") \n",
        "    #extract zip_file\n",
        "    zf = zipfile.ZipFile(target_file)\n",
        "    print(\"1. Extracting {} file\".format(target_file))\n",
        "    zf.extractall()\n",
        "    if delete_zip:\n",
        "        print(\"2. Deleting {} file\".format(dataset_name+\".zip\"))\n",
        "        os.remove(path=zip_file)\n",
        "\n",
        "fetch_data()"
      ],
      "metadata": {
        "colab": {
          "base_uri": "https://localhost:8080/"
        },
        "id": "knI9ZLUYFhwj",
        "outputId": "c03d3fb8-0f0b-417f-c4d6-ad8ce628d4b6"
      },
      "execution_count": 17,
      "outputs": [
        {
          "output_type": "stream",
          "name": "stdout",
          "text": [
            "**************************\n",
            "  Downloading zip file\n",
            "  >_<  Please wait >_< \n",
            "**************************\n"
          ]
        },
        {
          "output_type": "stream",
          "name": "stderr",
          "text": [
            "3667580it [05:52, 10403.36it/s]\n"
          ]
        },
        {
          "output_type": "stream",
          "name": "stdout",
          "text": [
            "  Download completed ;) :\n",
            "1. Extracting glove.zip file\n"
          ]
        }
      ]
    },
    {
      "cell_type": "code",
      "source": [
        "glove_file = \"glove.42B.300d.txt\"\n",
        "import tqdm\n",
        "\n",
        "EMBEDDING_VECTOR_LENGTH = 100 # <=200\n",
        "def construct_embedding_matrix(glove_file, word_index):\n",
        "    embedding_dict = {}\n",
        "    with open(glove_file,'r') as f:\n",
        "        for line in f:\n",
        "            values=line.split()\n",
        "            # get the word\n",
        "            word=values[0]\n",
        "            if word in word_index.keys():\n",
        "                # get the vector\n",
        "                vector = np.asarray(values[1:], 'float32')\n",
        "                embedding_dict[word] = vector\n",
        "    ###  oov words (out of vacabulary words) will be mapped to 0 vectors\n",
        "\n",
        "    num_words=len(word_index)+1\n",
        "    #initialize it to 0\n",
        "    embedding_matrix=np.zeros((num_words, EMBEDDING_VECTOR_LENGTH))\n",
        "\n",
        "    for word,i in tqdm.tqdm(word_index.items()):\n",
        "        if i < num_words:\n",
        "            vect=embedding_dict.get(word, [])\n",
        "            if len(vect)>0:\n",
        "                embedding_matrix[i] = vect[:EMBEDDING_VECTOR_LENGTH]\n",
        "    return embedding_matrix\n",
        "  \n",
        "embedding_matrix =  construct_embedding_matrix(glove_file, tokenizer.tokenizer.word_index)"
      ],
      "metadata": {
        "colab": {
          "base_uri": "https://localhost:8080/"
        },
        "id": "dxweaHX8FEMh",
        "outputId": "0bcf85cb-8bfe-4680-9d6f-9ee20f1d681f"
      },
      "execution_count": 18,
      "outputs": [
        {
          "output_type": "stream",
          "name": "stderr",
          "text": [
            "100%|██████████| 17922/17922 [00:00<00:00, 404654.92it/s]\n"
          ]
        }
      ]
    },
    {
      "cell_type": "code",
      "source": [
        "#https://datascience.stackexchange.com/questions/45165/how-to-get-accuracy-f1-precision-and-recall-for-a-keras-model\n",
        "\n",
        "from keras import backend as K\n",
        "\n",
        "def recall_m(y_true, y_pred):\n",
        "    true_positives = K.sum(K.round(K.clip(y_true * y_pred, 0, 1)))\n",
        "    possible_positives = K.sum(K.round(K.clip(y_true, 0, 1)))\n",
        "    recall = true_positives / (possible_positives + K.epsilon())\n",
        "    return recall\n",
        "\n",
        "def precision_m(y_true, y_pred):\n",
        "    true_positives = K.sum(K.round(K.clip(y_true * y_pred, 0, 1)))\n",
        "    predicted_positives = K.sum(K.round(K.clip(y_pred, 0, 1)))\n",
        "    precision = true_positives / (predicted_positives + K.epsilon())\n",
        "    return precision\n",
        "\n",
        "def f1_m(y_true, y_pred):\n",
        "    precision = precision_m(y_true, y_pred)\n",
        "    recall = recall_m(y_true, y_pred)\n",
        "    return 2*((precision*recall)/(precision+recall+K.epsilon()))"
      ],
      "metadata": {
        "id": "1y8L8DiAHvgr"
      },
      "execution_count": 19,
      "outputs": []
    },
    {
      "cell_type": "code",
      "source": [
        "from keras.layers import Embedding,LSTM,Dense,Dropout\n",
        "model=Sequential()\n",
        "\n",
        "embedding=Embedding(len(tokenizer.tokenizer.word_index)+1, # number of unique tokens\n",
        "                    EMBEDDING_VECTOR_LENGTH, #number of features\n",
        "                    embeddings_initializer=Constant(embedding_matrix), # initialize \n",
        "                    input_length=MAX_SEQUENCE_LENGTH, \n",
        "                    trainable=False)\n",
        "\n",
        "model.add(embedding)\n",
        "model.add(Dropout(0.2))\n",
        "model.add(LSTM(64, dropout=0.2, recurrent_dropout=0.5))\n",
        "model.add(Dense(1, activation='softmax'))\n",
        "# compile the model\n",
        "optimzer = Adam(clipvalue=0.5) # clip value to avoid the gradient exploding\n",
        "\n",
        "model.compile(optimizer=optimzer, \n",
        "              loss='binary_crossentropy', \n",
        "              metrics=['acc',f1_m,precision_m, recall_m])\n",
        "\n",
        "# fit the model\n",
        "history = model.fit(tokenized_train, y_train, \n",
        "                    batch_size=32, \n",
        "                    epochs=10, \n",
        "                    validation_data=(tokenized_val,y_val), \n",
        "                    verbose=2)"
      ],
      "metadata": {
        "colab": {
          "base_uri": "https://localhost:8080/"
        },
        "id": "olo7kLjqIOWp",
        "outputId": "793a390f-8456-4c41-d24f-39ac56be1628"
      },
      "execution_count": 20,
      "outputs": [
        {
          "output_type": "stream",
          "name": "stdout",
          "text": [
            "Epoch 1/10\n",
            "335/335 - 247s - loss: 0.5057 - acc: 0.6209 - f1_m: 0.8304 - precision_m: 0.7144 - recall_m: 1.0000 - val_loss: 0.4772 - val_acc: 0.6202 - val_f1_m: 0.8336 - val_precision_m: 0.7179 - val_recall_m: 1.0000 - 247s/epoch - 737ms/step\n",
            "Epoch 2/10\n",
            "335/335 - 241s - loss: 0.4893 - acc: 0.6209 - f1_m: 0.8313 - precision_m: 0.7143 - recall_m: 1.0000 - val_loss: 0.4795 - val_acc: 0.6202 - val_f1_m: 0.8336 - val_precision_m: 0.7179 - val_recall_m: 1.0000 - 241s/epoch - 719ms/step\n",
            "Epoch 3/10\n",
            "335/335 - 250s - loss: 0.4878 - acc: 0.6209 - f1_m: 0.8310 - precision_m: 0.7145 - recall_m: 1.0000 - val_loss: 0.4775 - val_acc: 0.6202 - val_f1_m: 0.8336 - val_precision_m: 0.7179 - val_recall_m: 1.0000 - 250s/epoch - 746ms/step\n",
            "Epoch 4/10\n",
            "335/335 - 240s - loss: 0.4875 - acc: 0.6209 - f1_m: 0.8305 - precision_m: 0.7144 - recall_m: 1.0000 - val_loss: 0.4779 - val_acc: 0.6202 - val_f1_m: 0.8336 - val_precision_m: 0.7179 - val_recall_m: 1.0000 - 240s/epoch - 716ms/step\n",
            "Epoch 5/10\n",
            "335/335 - 242s - loss: 0.4855 - acc: 0.6209 - f1_m: 0.8306 - precision_m: 0.7143 - recall_m: 1.0000 - val_loss: 0.4776 - val_acc: 0.6202 - val_f1_m: 0.8336 - val_precision_m: 0.7179 - val_recall_m: 1.0000 - 242s/epoch - 721ms/step\n",
            "Epoch 6/10\n",
            "335/335 - 243s - loss: 0.4858 - acc: 0.6209 - f1_m: 0.8307 - precision_m: 0.7144 - recall_m: 1.0000 - val_loss: 0.4835 - val_acc: 0.6202 - val_f1_m: 0.8336 - val_precision_m: 0.7179 - val_recall_m: 1.0000 - 243s/epoch - 725ms/step\n",
            "Epoch 7/10\n",
            "335/335 - 243s - loss: 0.4846 - acc: 0.6209 - f1_m: 0.8306 - precision_m: 0.7142 - recall_m: 1.0000 - val_loss: 0.4804 - val_acc: 0.6202 - val_f1_m: 0.8336 - val_precision_m: 0.7179 - val_recall_m: 1.0000 - 243s/epoch - 726ms/step\n",
            "Epoch 8/10\n",
            "335/335 - 242s - loss: 0.4834 - acc: 0.6209 - f1_m: 0.8305 - precision_m: 0.7141 - recall_m: 1.0000 - val_loss: 0.4788 - val_acc: 0.6202 - val_f1_m: 0.8336 - val_precision_m: 0.7179 - val_recall_m: 1.0000 - 242s/epoch - 722ms/step\n",
            "Epoch 9/10\n",
            "335/335 - 240s - loss: 0.4819 - acc: 0.6209 - f1_m: 0.8310 - precision_m: 0.7145 - recall_m: 1.0000 - val_loss: 0.4778 - val_acc: 0.6202 - val_f1_m: 0.8336 - val_precision_m: 0.7179 - val_recall_m: 1.0000 - 240s/epoch - 715ms/step\n",
            "Epoch 10/10\n",
            "335/335 - 246s - loss: 0.4803 - acc: 0.6209 - f1_m: 0.8309 - precision_m: 0.7143 - recall_m: 1.0000 - val_loss: 0.4834 - val_acc: 0.6202 - val_f1_m: 0.8336 - val_precision_m: 0.7179 - val_recall_m: 1.0000 - 246s/epoch - 734ms/step\n"
          ]
        }
      ]
    },
    {
      "cell_type": "code",
      "source": [
        "loss, accuracy, f1_score, precision, recall = model.evaluate(tokenized_val, y_val, verbose=0)"
      ],
      "metadata": {
        "id": "FcpqfoIDIQxM"
      },
      "execution_count": 21,
      "outputs": []
    },
    {
      "cell_type": "code",
      "source": [
        "f1_score"
      ],
      "metadata": {
        "colab": {
          "base_uri": "https://localhost:8080/"
        },
        "id": "zYWYaJEpT9wH",
        "outputId": "ef9bff35-6c84-417a-d6f1-618de07e18d4"
      },
      "execution_count": 22,
      "outputs": [
        {
          "output_type": "execute_result",
          "data": {
            "text/plain": [
              "0.8336421251296997"
            ]
          },
          "metadata": {},
          "execution_count": 22
        }
      ]
    },
    {
      "cell_type": "code",
      "source": [
        "preds=model.predict(tokenized_test,verbose=0)"
      ],
      "metadata": {
        "id": "f5X2mwpkUCDB"
      },
      "execution_count": 37,
      "outputs": []
    },
    {
      "cell_type": "code",
      "source": [
        "test['Preds']=preds"
      ],
      "metadata": {
        "id": "0fSTsur_UKOI"
      },
      "execution_count": 38,
      "outputs": []
    },
    {
      "cell_type": "code",
      "source": [
        "test['Preds'].unique()"
      ],
      "metadata": {
        "colab": {
          "base_uri": "https://localhost:8080/"
        },
        "id": "nPTZI6YmUU5G",
        "outputId": "4c4dd9f9-94fd-4792-c6ab-cc799717ad60"
      },
      "execution_count": 41,
      "outputs": [
        {
          "output_type": "execute_result",
          "data": {
            "text/plain": [
              "array([1.], dtype=float32)"
            ]
          },
          "metadata": {},
          "execution_count": 41
        }
      ]
    },
    {
      "cell_type": "code",
      "source": [],
      "metadata": {
        "id": "u1vbYz8EVGxi"
      },
      "execution_count": null,
      "outputs": []
    }
  ]
}